{
 "cells": [
  {
   "cell_type": "code",
   "execution_count": 1,
   "metadata": {},
   "outputs": [
    {
     "name": "stdout",
     "output_type": "stream",
     "text": [
      "Requirement already satisfied: PyMySQL in c:\\users\\gyeng\\appdata\\local\\programs\\python\\python311\\lib\\site-packages (1.1.0)Note: you may need to restart the kernel to use updated packages.\n",
      "\n"
     ]
    }
   ],
   "source": [
    "pip install PyMySQL"
   ]
  },
  {
   "cell_type": "code",
   "execution_count": 2,
   "metadata": {},
   "outputs": [
    {
     "name": "stdout",
     "output_type": "stream",
     "text": [
      "Collecting openpyxl\n",
      "  Downloading openpyxl-3.1.2-py2.py3-none-any.whl (249 kB)\n",
      "     ---------------------------------------- 0.0/250.0 kB ? eta -:--:--\n",
      "     -------------------------------------  245.8/250.0 kB 7.6 MB/s eta 0:00:01\n",
      "     -------------------------------------- 250.0/250.0 kB 3.9 MB/s eta 0:00:00\n",
      "Collecting et-xmlfile (from openpyxl)\n",
      "  Downloading et_xmlfile-1.1.0-py3-none-any.whl (4.7 kB)\n",
      "Installing collected packages: et-xmlfile, openpyxl\n",
      "Successfully installed et-xmlfile-1.1.0 openpyxl-3.1.2\n",
      "Note: you may need to restart the kernel to use updated packages.\n"
     ]
    }
   ],
   "source": [
    "pip install openpyxl"
   ]
  },
  {
   "cell_type": "code",
   "execution_count": 3,
   "metadata": {},
   "outputs": [
    {
     "name": "stdout",
     "output_type": "stream",
     "text": [
      "Note: you may need to restart the kernel to use updated packages.\n"
     ]
    },
    {
     "name": "stderr",
     "output_type": "stream",
     "text": [
      "ERROR: Could not find a version that satisfies the requirement xird (from versions: none)\n",
      "ERROR: No matching distribution found for xird\n"
     ]
    }
   ],
   "source": [
    "pip install xird"
   ]
  },
  {
   "cell_type": "code",
   "execution_count": 1,
   "metadata": {},
   "outputs": [
    {
     "name": "stdout",
     "output_type": "stream",
     "text": [
      "Collecting selenium\n",
      "  Obtaining dependency information for selenium from https://files.pythonhosted.org/packages/55/56/faf2aa238a0a8fbb7d5c11345a0f5e96358b7a3e144ba17b8b1c64f0b19a/selenium-4.13.0-py3-none-any.whl.metadata\n",
      "  Downloading selenium-4.13.0-py3-none-any.whl.metadata (6.9 kB)\n",
      "Requirement already satisfied: urllib3[socks]<3,>=1.26 in c:\\users\\gyeng\\appdata\\local\\programs\\python\\python311\\lib\\site-packages (from selenium) (2.0.5)\n",
      "Collecting trio~=0.17 (from selenium)\n",
      "  Obtaining dependency information for trio~=0.17 from https://files.pythonhosted.org/packages/a3/dd/b61fa61b186d3267ef3903048fbee29132963ae762fb70b08d4a3cd6f7aa/trio-0.22.2-py3-none-any.whl.metadata\n",
      "  Downloading trio-0.22.2-py3-none-any.whl.metadata (4.7 kB)\n",
      "Collecting trio-websocket~=0.9 (from selenium)\n",
      "  Obtaining dependency information for trio-websocket~=0.9 from https://files.pythonhosted.org/packages/48/be/a9ae5f50cad5b6f85bd2574c2c923730098530096e170c1ce7452394d7aa/trio_websocket-0.11.1-py3-none-any.whl.metadata\n",
      "  Downloading trio_websocket-0.11.1-py3-none-any.whl.metadata (4.7 kB)\n",
      "Requirement already satisfied: certifi>=2021.10.8 in c:\\users\\gyeng\\appdata\\local\\programs\\python\\python311\\lib\\site-packages (from selenium) (2023.7.22)\n",
      "Collecting attrs>=20.1.0 (from trio~=0.17->selenium)\n",
      "  Downloading attrs-23.1.0-py3-none-any.whl (61 kB)\n",
      "     ---------------------------------------- 0.0/61.2 kB ? eta -:--:--\n",
      "     --------------------------------- ------ 51.2/61.2 kB ? eta -:--:--\n",
      "     ---------------------------------------- 61.2/61.2 kB 1.1 MB/s eta 0:00:00\n",
      "Collecting sortedcontainers (from trio~=0.17->selenium)\n",
      "  Downloading sortedcontainers-2.4.0-py2.py3-none-any.whl (29 kB)\n",
      "Requirement already satisfied: idna in c:\\users\\gyeng\\appdata\\local\\programs\\python\\python311\\lib\\site-packages (from trio~=0.17->selenium) (3.4)\n",
      "Collecting outcome (from trio~=0.17->selenium)\n",
      "  Downloading outcome-1.2.0-py2.py3-none-any.whl (9.7 kB)\n",
      "Collecting sniffio (from trio~=0.17->selenium)\n",
      "  Downloading sniffio-1.3.0-py3-none-any.whl (10 kB)\n",
      "Collecting cffi>=1.14 (from trio~=0.17->selenium)\n",
      "  Obtaining dependency information for cffi>=1.14 from https://files.pythonhosted.org/packages/5a/c7/694814b3757878b29da39bc2f0cf9d20295f4c1e0a0bde7971708d5f23f8/cffi-1.16.0-cp311-cp311-win_amd64.whl.metadata\n",
      "  Downloading cffi-1.16.0-cp311-cp311-win_amd64.whl.metadata (1.5 kB)\n",
      "Collecting wsproto>=0.14 (from trio-websocket~=0.9->selenium)\n",
      "  Downloading wsproto-1.2.0-py3-none-any.whl (24 kB)\n",
      "Collecting pysocks!=1.5.7,<2.0,>=1.5.6 (from urllib3[socks]<3,>=1.26->selenium)\n",
      "  Downloading PySocks-1.7.1-py3-none-any.whl (16 kB)\n",
      "Collecting pycparser (from cffi>=1.14->trio~=0.17->selenium)\n",
      "  Downloading pycparser-2.21-py2.py3-none-any.whl (118 kB)\n",
      "     ---------------------------------------- 0.0/118.7 kB ? eta -:--:--\n",
      "     ------------------------------------ - 112.6/118.7 kB 6.4 MB/s eta 0:00:01\n",
      "     ------------------------------------ - 112.6/118.7 kB 6.4 MB/s eta 0:00:01\n",
      "     -------------------------------------- 118.7/118.7 kB 1.2 MB/s eta 0:00:00\n",
      "Collecting h11<1,>=0.9.0 (from wsproto>=0.14->trio-websocket~=0.9->selenium)\n",
      "  Downloading h11-0.14.0-py3-none-any.whl (58 kB)\n",
      "     ---------------------------------------- 0.0/58.3 kB ? eta -:--:--\n",
      "     ----------------------------------- ---- 51.2/58.3 kB ? eta -:--:--\n",
      "     -------------------------------------- 58.3/58.3 kB 762.2 kB/s eta 0:00:00\n",
      "Downloading selenium-4.13.0-py3-none-any.whl (9.5 MB)\n",
      "   ---------------------------------------- 0.0/9.5 MB ? eta -:--:--\n",
      "   -- ------------------------------------- 0.5/9.5 MB 10.2 MB/s eta 0:00:01\n",
      "   ---- ----------------------------------- 1.0/9.5 MB 11.0 MB/s eta 0:00:01\n",
      "   ------ --------------------------------- 1.6/9.5 MB 11.3 MB/s eta 0:00:01\n",
      "   --------- ------------------------------ 2.1/9.5 MB 12.5 MB/s eta 0:00:01\n",
      "   ---------- ----------------------------- 2.5/9.5 MB 10.7 MB/s eta 0:00:01\n",
      "   ------------ --------------------------- 3.1/9.5 MB 10.8 MB/s eta 0:00:01\n",
      "   --------------- ------------------------ 3.6/9.5 MB 11.5 MB/s eta 0:00:01\n",
      "   ----------------- ---------------------- 4.1/9.5 MB 11.5 MB/s eta 0:00:01\n",
      "   ------------------- -------------------- 4.7/9.5 MB 11.5 MB/s eta 0:00:01\n",
      "   ---------------------- ----------------- 5.2/9.5 MB 11.6 MB/s eta 0:00:01\n",
      "   ------------------------ --------------- 5.8/9.5 MB 11.6 MB/s eta 0:00:01\n",
      "   -------------------------- ------------- 6.3/9.5 MB 11.6 MB/s eta 0:00:01\n",
      "   ----------------------------- ---------- 6.9/9.5 MB 11.6 MB/s eta 0:00:01\n",
      "   ------------------------------- -------- 7.4/9.5 MB 11.6 MB/s eta 0:00:01\n",
      "   --------------------------------- ------ 8.0/9.5 MB 11.6 MB/s eta 0:00:01\n",
      "   ----------------------------------- ---- 8.5/9.5 MB 11.6 MB/s eta 0:00:01\n",
      "   -------------------------------------- - 9.1/9.5 MB 11.6 MB/s eta 0:00:01\n",
      "   ---------------------------------------  9.5/9.5 MB 11.7 MB/s eta 0:00:01\n",
      "   ---------------------------------------  9.5/9.5 MB 11.7 MB/s eta 0:00:01\n",
      "   ---------------------------------------  9.5/9.5 MB 11.7 MB/s eta 0:00:01\n",
      "   ---------------------------------------  9.5/9.5 MB 11.7 MB/s eta 0:00:01\n",
      "   ---------------------------------------- 9.5/9.5 MB 9.3 MB/s eta 0:00:00\n",
      "Downloading trio-0.22.2-py3-none-any.whl (400 kB)\n",
      "   ---------------------------------------- 0.0/400.2 kB ? eta -:--:--\n",
      "   ---------------------------------------  399.4/400.2 kB 8.3 MB/s eta 0:00:01\n",
      "   ---------------------------------------- 400.2/400.2 kB 4.1 MB/s eta 0:00:00\n",
      "Downloading trio_websocket-0.11.1-py3-none-any.whl (17 kB)\n",
      "Downloading cffi-1.16.0-cp311-cp311-win_amd64.whl (181 kB)\n",
      "   ---------------------------------------- 0.0/181.5 kB ? eta -:--:--\n",
      "   ---------------------------------------- 181.5/181.5 kB 5.5 MB/s eta 0:00:00\n",
      "Installing collected packages: sortedcontainers, sniffio, pysocks, pycparser, h11, attrs, wsproto, outcome, cffi, trio, trio-websocket, selenium\n",
      "Successfully installed attrs-23.1.0 cffi-1.16.0 h11-0.14.0 outcome-1.2.0 pycparser-2.21 pysocks-1.7.1 selenium-4.13.0 sniffio-1.3.0 sortedcontainers-2.4.0 trio-0.22.2 trio-websocket-0.11.1 wsproto-1.2.0\n",
      "Note: you may need to restart the kernel to use updated packages.\n"
     ]
    }
   ],
   "source": [
    "pip install selenium"
   ]
  },
  {
   "cell_type": "code",
   "execution_count": 3,
   "metadata": {},
   "outputs": [
    {
     "name": "stdout",
     "output_type": "stream",
     "text": [
      "Requirement already satisfied: bs4 in c:\\users\\gyeng\\appdata\\local\\programs\\python\\python311\\lib\\site-packages (0.0.1)\n",
      "Requirement already satisfied: beautifulsoup4 in c:\\users\\gyeng\\appdata\\local\\programs\\python\\python311\\lib\\site-packages (from bs4) (4.12.2)\n",
      "Requirement already satisfied: soupsieve>1.2 in c:\\users\\gyeng\\appdata\\local\\programs\\python\\python311\\lib\\site-packages (from beautifulsoup4->bs4) (2.5)\n",
      "Note: you may need to restart the kernel to use updated packages.\n"
     ]
    },
    {
     "name": "stderr",
     "output_type": "stream",
     "text": [
      "\n",
      "[notice] A new release of pip available: 22.3.1 -> 23.2.1\n",
      "[notice] To update, run: python.exe -m pip install --upgrade pip\n"
     ]
    }
   ],
   "source": [
    "pip install bs4"
   ]
  },
  {
   "cell_type": "code",
   "execution_count": 1,
   "metadata": {},
   "outputs": [
    {
     "name": "stdout",
     "output_type": "stream",
     "text": [
      "Requirement already satisfied: requests in c:\\users\\gyeng\\appdata\\local\\programs\\python\\python311\\lib\\site-packages (2.31.0)\n",
      "Requirement already satisfied: charset-normalizer<4,>=2 in c:\\users\\gyeng\\appdata\\local\\programs\\python\\python311\\lib\\site-packages (from requests) (3.2.0)\n",
      "Requirement already satisfied: idna<4,>=2.5 in c:\\users\\gyeng\\appdata\\local\\programs\\python\\python311\\lib\\site-packages (from requests) (3.4)\n",
      "Requirement already satisfied: urllib3<3,>=1.21.1 in c:\\users\\gyeng\\appdata\\local\\programs\\python\\python311\\lib\\site-packages (from requests) (2.0.5)\n",
      "Requirement already satisfied: certifi>=2017.4.17 in c:\\users\\gyeng\\appdata\\local\\programs\\python\\python311\\lib\\site-packages (from requests) (2023.7.22)\n",
      "Note: you may need to restart the kernel to use updated packages.\n"
     ]
    }
   ],
   "source": [
    "pip install requests"
   ]
  },
  {
   "cell_type": "code",
   "execution_count": 1,
   "metadata": {},
   "outputs": [
    {
     "name": "stdout",
     "output_type": "stream",
     "text": [
      "Requirement already satisfied: cryptography in c:\\users\\gyeng\\appdata\\local\\programs\\python\\python311\\lib\\site-packages (41.0.4)\n",
      "Requirement already satisfied: cffi>=1.12 in c:\\users\\gyeng\\appdata\\local\\programs\\python\\python311\\lib\\site-packages (from cryptography) (1.16.0)\n",
      "Requirement already satisfied: pycparser in c:\\users\\gyeng\\appdata\\local\\programs\\python\\python311\\lib\\site-packages (from cffi>=1.12->cryptography) (2.21)\n",
      "Note: you may need to restart the kernel to use updated packages.\n"
     ]
    },
    {
     "name": "stderr",
     "output_type": "stream",
     "text": [
      "\n",
      "[notice] A new release of pip is available: 23.2.1 -> 23.3.1\n",
      "[notice] To update, run: python.exe -m pip install --upgrade pip\n"
     ]
    }
   ],
   "source": [
    "pip install cryptography"
   ]
  },
  {
   "cell_type": "code",
   "execution_count": 1,
   "metadata": {},
   "outputs": [
    {
     "name": "stdout",
     "output_type": "stream",
     "text": [
      "Requirement already satisfied: pillow in c:\\users\\gyeng\\appdata\\local\\programs\\python\\python311\\lib\\site-packages (10.1.0)\n",
      "Note: you may need to restart the kernel to use updated packages.\n"
     ]
    },
    {
     "name": "stderr",
     "output_type": "stream",
     "text": [
      "\n",
      "[notice] A new release of pip is available: 23.2.1 -> 24.0\n",
      "[notice] To update, run: python.exe -m pip install --upgrade pip\n"
     ]
    }
   ],
   "source": [
    "pip install pillow"
   ]
  },
  {
   "cell_type": "code",
   "execution_count": 4,
   "metadata": {},
   "outputs": [
    {
     "name": "stdout",
     "output_type": "stream",
     "text": [
      "Requirement already satisfied: pymysql-pool in c:\\users\\gyeng\\appdata\\local\\programs\\python\\python311\\lib\\site-packages (0.4.6)\n",
      "Requirement already satisfied: pymysql>=0.7.10 in c:\\users\\gyeng\\appdata\\local\\programs\\python\\python311\\lib\\site-packages (from pymysql-pool) (1.1.0)\n",
      "Note: you may need to restart the kernel to use updated packages.\n"
     ]
    },
    {
     "name": "stderr",
     "output_type": "stream",
     "text": [
      "\n",
      "[notice] A new release of pip is available: 23.2.1 -> 24.0\n",
      "[notice] To update, run: python.exe -m pip install --upgrade pip\n"
     ]
    }
   ],
   "source": [
    "pip install pymysql-pool"
   ]
  },
  {
   "cell_type": "code",
   "execution_count": 1,
   "metadata": {},
   "outputs": [
    {
     "name": "stdout",
     "output_type": "stream",
     "text": [
      "Requirement already satisfied: pymysql-pooling in c:\\users\\gyeng\\appdata\\local\\programs\\python\\python311\\lib\\site-packages (1.0.6)\n",
      "Requirement already satisfied: PyMySQL in c:\\users\\gyeng\\appdata\\local\\programs\\python\\python311\\lib\\site-packages (from pymysql-pooling) (1.1.0)\n",
      "Note: you may need to restart the kernel to use updated packages.\n"
     ]
    },
    {
     "name": "stderr",
     "output_type": "stream",
     "text": [
      "\n",
      "[notice] A new release of pip is available: 23.2.1 -> 24.0\n",
      "[notice] To update, run: python.exe -m pip install --upgrade pip\n"
     ]
    }
   ],
   "source": [
    "pip install pymysql-pooling"
   ]
  },
  {
   "cell_type": "code",
   "execution_count": 2,
   "metadata": {},
   "outputs": [
    {
     "name": "stdout",
     "output_type": "stream",
     "text": [
      "Collecting sshtunnelNote: you may need to restart the kernel to use updated packages.\n",
      "\n",
      "  Obtaining dependency information for sshtunnel from https://files.pythonhosted.org/packages/58/13/8476c4328dcadfe26f8bd7f3a1a03bf9ddb890a7e7b692f54a179bc525bf/sshtunnel-0.4.0-py2.py3-none-any.whl.metadata\n",
      "  Downloading sshtunnel-0.4.0-py2.py3-none-any.whl.metadata (19 kB)\n",
      "Collecting paramiko>=2.7.2 (from sshtunnel)\n",
      "  Obtaining dependency information for paramiko>=2.7.2 from https://files.pythonhosted.org/packages/ad/50/8792484502c8141c20c996b802fefa8435a9c018a2bb440a06b172782118/paramiko-3.4.0-py3-none-any.whl.metadata\n",
      "  Downloading paramiko-3.4.0-py3-none-any.whl.metadata (4.4 kB)\n",
      "Collecting bcrypt>=3.2 (from paramiko>=2.7.2->sshtunnel)\n",
      "  Obtaining dependency information for bcrypt>=3.2 from https://files.pythonhosted.org/packages/53/5b/73803e5bf877e07739deaeecb2e356f4cc9ae3b766558959a898f7a993e0/bcrypt-4.1.2-cp39-abi3-win_amd64.whl.metadata\n",
      "  Downloading bcrypt-4.1.2-cp39-abi3-win_amd64.whl.metadata (9.8 kB)\n",
      "Requirement already satisfied: cryptography>=3.3 in c:\\users\\gyeng\\appdata\\local\\programs\\python\\python311\\lib\\site-packages (from paramiko>=2.7.2->sshtunnel) (41.0.4)\n",
      "Collecting pynacl>=1.5 (from paramiko>=2.7.2->sshtunnel)\n",
      "  Obtaining dependency information for pynacl>=1.5 from https://files.pythonhosted.org/packages/5e/22/d3db169895faaf3e2eda892f005f433a62db2decbcfbc2f61e6517adfa87/PyNaCl-1.5.0-cp36-abi3-win_amd64.whl.metadata\n",
      "  Downloading PyNaCl-1.5.0-cp36-abi3-win_amd64.whl.metadata (8.7 kB)\n",
      "Requirement already satisfied: cffi>=1.12 in c:\\users\\gyeng\\appdata\\local\\programs\\python\\python311\\lib\\site-packages (from cryptography>=3.3->paramiko>=2.7.2->sshtunnel) (1.16.0)\n",
      "Requirement already satisfied: pycparser in c:\\users\\gyeng\\appdata\\local\\programs\\python\\python311\\lib\\site-packages (from cffi>=1.12->cryptography>=3.3->paramiko>=2.7.2->sshtunnel) (2.21)\n",
      "Downloading sshtunnel-0.4.0-py2.py3-none-any.whl (24 kB)\n",
      "Downloading paramiko-3.4.0-py3-none-any.whl (225 kB)\n",
      "   ---------------------------------------- 0.0/225.9 kB ? eta -:--:--\n",
      "   --------------------------------------  225.3/225.9 kB 14.3 MB/s eta 0:00:01\n",
      "   --------------------------------------  225.3/225.9 kB 14.3 MB/s eta 0:00:01\n",
      "   --------------------------------------  225.3/225.9 kB 14.3 MB/s eta 0:00:01\n",
      "   ---------------------------------------- 225.9/225.9 kB 1.5 MB/s eta 0:00:00\n",
      "Downloading bcrypt-4.1.2-cp39-abi3-win_amd64.whl (158 kB)\n",
      "   ---------------------------------------- 0.0/158.3 kB ? eta -:--:--\n",
      "   -------------------------------------- - 153.6/158.3 kB 9.0 MB/s eta 0:00:01\n",
      "   ---------------------------------------- 158.3/158.3 kB 1.9 MB/s eta 0:00:00\n",
      "Downloading PyNaCl-1.5.0-cp36-abi3-win_amd64.whl (212 kB)\n",
      "   ---------------------------------------- 0.0/212.1 kB ? eta -:--:--\n",
      "   ------------------------------------- - 204.8/212.1 kB 13.0 MB/s eta 0:00:01\n",
      "   ------------------------------------- - 204.8/212.1 kB 13.0 MB/s eta 0:00:01\n",
      "   ------------------------------------- - 204.8/212.1 kB 13.0 MB/s eta 0:00:01\n",
      "   ------------------------------------- - 204.8/212.1 kB 13.0 MB/s eta 0:00:01\n",
      "   ------------------------------------- - 204.8/212.1 kB 13.0 MB/s eta 0:00:01\n",
      "   ------------------------------------- - 204.8/212.1 kB 13.0 MB/s eta 0:00:01\n",
      "   ------------------------------------- - 204.8/212.1 kB 13.0 MB/s eta 0:00:01\n",
      "   -------------------------------------- 212.1/212.1 kB 615.6 kB/s eta 0:00:00\n",
      "Installing collected packages: bcrypt, pynacl, paramiko, sshtunnel\n",
      "Successfully installed bcrypt-4.1.2 paramiko-3.4.0 pynacl-1.5.0 sshtunnel-0.4.0\n"
     ]
    },
    {
     "name": "stderr",
     "output_type": "stream",
     "text": [
      "  WARNING: The script sshtunnel.exe is installed in 'c:\\Users\\gyeng\\AppData\\Local\\Programs\\Python\\Python311\\Scripts' which is not on PATH.\n",
      "  Consider adding this directory to PATH or, if you prefer to suppress this warning, use --no-warn-script-location.\n",
      "\n",
      "[notice] A new release of pip is available: 23.2.1 -> 24.0\n",
      "[notice] To update, run: python.exe -m pip install --upgrade pip\n"
     ]
    }
   ],
   "source": [
    "pip install sshtunnel"
   ]
  }
 ],
 "metadata": {
  "kernelspec": {
   "display_name": "Python 3",
   "language": "python",
   "name": "python3"
  },
  "language_info": {
   "codemirror_mode": {
    "name": "ipython",
    "version": 3
   },
   "file_extension": ".py",
   "mimetype": "text/x-python",
   "name": "python",
   "nbconvert_exporter": "python",
   "pygments_lexer": "ipython3",
   "version": "3.11.3"
  },
  "orig_nbformat": 4
 },
 "nbformat": 4,
 "nbformat_minor": 2
}
